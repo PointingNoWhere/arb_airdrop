{
 "cells": [
  {
   "cell_type": "code",
   "execution_count": 26,
   "metadata": {},
   "outputs": [],
   "source": [
    "#API connection and dependency install\n",
    "import os\n",
    "from flipside import Flipside\n",
    "from dotenv import find_dotenv, load_dotenv\n",
    "\n"
   ]
  },
  {
   "cell_type": "code",
   "execution_count": null,
   "metadata": {},
   "outputs": [],
   "source": [
    "#Load dotenv path to get api key\n",
    "dotenv_path =  find_dotenv()\n",
    "load_dotenv(dotenv_path)\n",
    "\n",
    "API_KEY = os.getenv(\"FLIP_API_KEY\")\n",
    "\n",
    "flipside = Flipside(\"54ff2548-5f20-4730-9d97-3b40b935c69b\", \"https://api-v2.flipsidecrypto.xyz\") #had to do some digging thru the documentation to get the correct url"
   ]
  },
  {
   "cell_type": "code",
   "execution_count": 42,
   "metadata": {},
   "outputs": [],
   "source": [
    "\n",
    "sql = \"\"\"\n",
    "select \n",
    "'arbitrum' AS blockchain, \n",
    "'arbitrum' as airdrop, \n",
    "'claim' AS action_type, \n",
    "tx_hash, \n",
    "block_timestamp, \n",
    "contract_address, \n",
    "to_address AS user_address, \n",
    "amount, \n",
    "amount_usd \n",
    "FROM arbitrum.core.ez_token_transfers \n",
    "where from_address = lower('0x67a24CE4321aB3aF51c2D0a4801c3E111D88C9d9') and \n",
    "contract_address = lower('0x912CE59144191C1204E64559FE8253a0e49E6548')\n",
    "and amount > 0\n",
    "\"\"\"\n",
    "arb_drop = flipside.query(sql)"
   ]
  },
  {
   "cell_type": "code",
   "execution_count": 44,
   "metadata": {},
   "outputs": [
    {
     "ename": "NameError",
     "evalue": "name 'createDataFrame' is not defined",
     "output_type": "error",
     "traceback": [
      "\u001b[31m---------------------------------------------------------------------------\u001b[39m",
      "\u001b[31mNameError\u001b[39m                                 Traceback (most recent call last)",
      "\u001b[36mCell\u001b[39m\u001b[36m \u001b[39m\u001b[32mIn[44]\u001b[39m\u001b[32m, line 1\u001b[39m\n\u001b[32m----> \u001b[39m\u001b[32m1\u001b[39m arb_drop_df = \u001b[43mcreateDataFrame\u001b[49m(arb_drop)\n",
      "\u001b[31mNameError\u001b[39m: name 'createDataFrame' is not defined"
     ]
    }
   ],
   "source": [
    "arb_drop_df = createDataFrame(arb_drop)"
   ]
  }
 ],
 "metadata": {
  "kernelspec": {
   "display_name": ".venv",
   "language": "python",
   "name": "python3"
  },
  "language_info": {
   "codemirror_mode": {
    "name": "ipython",
    "version": 3
   },
   "file_extension": ".py",
   "mimetype": "text/x-python",
   "name": "python",
   "nbconvert_exporter": "python",
   "pygments_lexer": "ipython3",
   "version": "3.12.4"
  }
 },
 "nbformat": 4,
 "nbformat_minor": 2
}
