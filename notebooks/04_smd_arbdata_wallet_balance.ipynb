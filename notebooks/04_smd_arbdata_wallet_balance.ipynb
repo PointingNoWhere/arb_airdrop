{
 "cells": [
  {
   "cell_type": "code",
   "execution_count": 1,
   "metadata": {},
   "outputs": [
    {
     "name": "stdout",
     "output_type": "stream",
     "text": [
      "Loading .env from: c:\\Users\\savan\\Desktop\\portfolio_repo\\arb_airdrop\\.env\n"
     ]
    }
   ],
   "source": [
    "#API connection and dependency install\n",
    "import os\n",
    "from flipside import Flipside\n",
    "from dotenv import find_dotenv, load_dotenv\n",
    "import pandas as pd\n",
    "import matplotlib.pyplot as plt\n",
    "import seaborn as sns\n",
    "import numpy as np\n",
    "\n",
    "# Confirm and define dotenv path\n",
    "dotenv_path = find_dotenv()\n",
    "print(f\"Loading .env from: {dotenv_path}\")\n",
    "\n",
    "#load env data from path\n",
    "load_dotenv(dotenv_path, override=True)\n",
    "\n",
    "#store API_KEY from dotenv file\n",
    "import os\n",
    "API_KEY = os.getenv(\"FLIP_API_KEY\")\n",
    "# print(f\"API Key loaded: {API_KEY}\")\n",
    "\n",
    "#instantiate flipside client\n",
    "flipside = Flipside(API_KEY, \"https://api-v2.flipsidecrypto.xyz\")"
   ]
  },
  {
   "cell_type": "code",
   "execution_count": 12,
   "metadata": {},
   "outputs": [],
   "source": [
    "import os\n",
    "\n",
    "os.makedirs('data/processed/transfers_batches', exist_ok=True)\n"
   ]
  },
  {
   "cell_type": "markdown",
   "metadata": {},
   "source": [
    "Load airdrop recipient wallets as a list. Query wallet transfers in batches from ez_token_transfers"
   ]
  },
  {
   "cell_type": "code",
   "execution_count": 13,
   "metadata": {},
   "outputs": [
    {
     "name": "stdout",
     "output_type": "stream",
     "text": [
      "Saved batch 0 to 1000 with 12159 rows\n",
      "Saved batch 1000 to 2000 with 100000 rows\n",
      "Saved batch 2000 to 3000 with 10183 rows\n",
      "Saved batch 3000 to 4000 with 12103 rows\n",
      "Saved batch 4000 to 5000 with 22875 rows\n",
      "Saved batch 5000 to 6000 with 10072 rows\n",
      "Saved batch 6000 to 7000 with 15367 rows\n",
      "Saved batch 7000 to 8000 with 9428 rows\n",
      "Saved batch 8000 to 9000 with 8871 rows\n",
      "Saved batch 9000 to 10000 with 9360 rows\n",
      "Saved batch 10000 to 11000 with 8172 rows\n",
      "Saved batch 11000 to 12000 with 7735 rows\n",
      "Saved batch 12000 to 13000 with 18951 rows\n",
      "Saved batch 13000 to 14000 with 8089 rows\n",
      "Saved batch 14000 to 15000 with 14336 rows\n",
      "Saved batch 15000 to 16000 with 8362 rows\n",
      "Saved batch 16000 to 17000 with 7140 rows\n",
      "Saved batch 17000 to 18000 with 8973 rows\n",
      "Saved batch 18000 to 19000 with 13986 rows\n",
      "Saved batch 19000 to 20000 with 11196 rows\n",
      "Saved batch 20000 to 21000 with 11072 rows\n",
      "Saved batch 21000 to 22000 with 11750 rows\n",
      "Saved batch 22000 to 23000 with 10164 rows\n",
      "Saved batch 23000 to 24000 with 13286 rows\n",
      "Saved batch 24000 to 25000 with 9898 rows\n",
      "Saved batch 25000 to 26000 with 11991 rows\n",
      "Saved batch 26000 to 27000 with 12722 rows\n",
      "Saved batch 27000 to 28000 with 11637 rows\n",
      "Saved batch 28000 to 29000 with 15184 rows\n",
      "Saved batch 29000 to 30000 with 24288 rows\n",
      "Saved batch 30000 to 31000 with 11543 rows\n",
      "Saved batch 31000 to 32000 with 9717 rows\n",
      "Saved batch 32000 to 33000 with 10680 rows\n",
      "Saved batch 33000 to 34000 with 8917 rows\n",
      "Saved batch 34000 to 35000 with 10601 rows\n",
      "Saved batch 35000 to 36000 with 11869 rows\n",
      "Saved batch 36000 to 37000 with 13309 rows\n",
      "Saved batch 37000 to 38000 with 10548 rows\n",
      "Saved batch 38000 to 39000 with 9470 rows\n",
      "Saved batch 39000 to 40000 with 11028 rows\n",
      "Saved batch 40000 to 41000 with 10877 rows\n",
      "Saved batch 41000 to 42000 with 13127 rows\n",
      "Saved batch 42000 to 43000 with 11379 rows\n",
      "Saved batch 43000 to 44000 with 6494 rows\n",
      "Saved batch 44000 to 45000 with 6978 rows\n",
      "Saved batch 45000 to 46000 with 11201 rows\n",
      "Saved batch 46000 to 47000 with 14880 rows\n",
      "Saved batch 47000 to 48000 with 12550 rows\n",
      "Saved batch 48000 to 49000 with 9633 rows\n",
      "Saved batch 49000 to 50000 with 11840 rows\n",
      "Saved batch 50000 to 51000 with 9602 rows\n",
      "Saved batch 51000 to 52000 with 11533 rows\n",
      "Saved batch 52000 to 53000 with 12564 rows\n",
      "Saved batch 53000 to 54000 with 10857 rows\n",
      "Saved batch 54000 to 55000 with 10920 rows\n",
      "Saved batch 55000 to 56000 with 15454 rows\n",
      "Saved batch 56000 to 57000 with 13782 rows\n",
      "Saved batch 57000 to 58000 with 13391 rows\n",
      "Saved batch 58000 to 59000 with 12839 rows\n",
      "Saved batch 59000 to 60000 with 9694 rows\n",
      "Saved batch 60000 to 61000 with 11318 rows\n",
      "Saved batch 61000 to 62000 with 9764 rows\n",
      "Saved batch 62000 to 63000 with 8133 rows\n",
      "Saved batch 63000 to 64000 with 10900 rows\n",
      "Saved batch 64000 to 65000 with 9883 rows\n",
      "Saved batch 65000 to 66000 with 11250 rows\n",
      "Saved batch 66000 to 67000 with 9294 rows\n",
      "Saved batch 67000 to 68000 with 13133 rows\n",
      "Saved batch 68000 to 69000 with 11773 rows\n",
      "Saved batch 69000 to 70000 with 10059 rows\n",
      "Saved batch 70000 to 71000 with 9948 rows\n",
      "Saved batch 71000 to 72000 with 10905 rows\n",
      "Saved batch 72000 to 73000 with 11536 rows\n",
      "Saved batch 73000 to 74000 with 9713 rows\n",
      "Saved batch 74000 to 75000 with 12387 rows\n",
      "Saved batch 75000 to 76000 with 7574 rows\n",
      "Saved batch 76000 to 77000 with 9812 rows\n",
      "Saved batch 77000 to 78000 with 9636 rows\n",
      "Saved batch 78000 to 79000 with 10268 rows\n",
      "Saved batch 79000 to 80000 with 12622 rows\n",
      "Saved batch 80000 to 81000 with 10953 rows\n",
      "Saved batch 81000 to 82000 with 11245 rows\n",
      "Saved batch 82000 to 83000 with 9149 rows\n",
      "Saved batch 83000 to 84000 with 10229 rows\n",
      "Saved batch 84000 to 85000 with 9514 rows\n",
      "Saved batch 85000 to 86000 with 16651 rows\n",
      "Saved batch 86000 to 87000 with 13768 rows\n",
      "Saved batch 87000 to 88000 with 8789 rows\n",
      "Saved batch 88000 to 89000 with 9967 rows\n",
      "Saved batch 89000 to 90000 with 9844 rows\n",
      "Saved batch 90000 to 91000 with 12010 rows\n",
      "Saved batch 91000 to 92000 with 13151 rows\n",
      "Saved batch 92000 to 93000 with 10779 rows\n",
      "Saved batch 93000 to 94000 with 10451 rows\n",
      "Saved batch 94000 to 95000 with 11192 rows\n",
      "Saved batch 95000 to 96000 with 8956 rows\n",
      "Saved batch 96000 to 97000 with 10391 rows\n",
      "Saved batch 97000 to 98000 with 10036 rows\n",
      "Saved batch 98000 to 99000 with 10367 rows\n",
      "Saved batch 99000 to 100000 with 9690 rows\n"
     ]
    }
   ],
   "source": [
    "recipients_df = pd.read_csv(r\"C:\\Users\\savan\\Desktop\\portfolio_repo\\arb_airdrop\\data\\processed\\arb_drop_data\")\n",
    "\n",
    "batch_size = 1000\n",
    "wallet_list = recipients_df['user_address'].unique()\n",
    "\n",
    "for i in range(0, len(wallet_list), batch_size):\n",
    "    batch = wallet_list[i:i+batch_size].tolist()\n",
    "    batch_str = \"','\".join(batch)\n",
    "    \n",
    "    sql = f\"\"\"\n",
    "        SELECT block_number, block_timestamp, contract_address, from_address, to_address, amount\n",
    "        FROM arbitrum.core.ez_token_transfers\n",
    "        WHERE (from_address IN ('{batch_str}') OR to_address IN ('{batch_str}'))\n",
    "        AND contract_address = LOWER('0x912CE59144191C1204E64559FE8253a0e49E6548')\n",
    "    \"\"\"\n",
    "    \n",
    "    wallet_transfers = flipside.query(sql)\n",
    "    \n",
    "    columns = wallet_transfers.columns\n",
    "    rows = wallet_transfers.rows  \n",
    "    wallet_transfers_df = pd.DataFrame(rows, columns=columns)\n",
    "    wallet_transfers_df.to_parquet(f\"data/processed/transfers_batches/transfers_batch_{i}.parquet\", index=False)\n",
    "    print(f\"Saved batch {i} to {i+batch_size} with {len(wallet_transfers_df)} rows\")"
   ]
  },
  {
   "cell_type": "markdown",
   "metadata": {},
   "source": [
    "Stitch together files"
   ]
  },
  {
   "cell_type": "code",
   "execution_count": 14,
   "metadata": {},
   "outputs": [],
   "source": [
    "import glob"
   ]
  },
  {
   "cell_type": "code",
   "execution_count": null,
   "metadata": {},
   "outputs": [
    {
     "name": "stdout",
     "output_type": "stream",
     "text": [
      "Found files: ['c:\\\\Users\\\\savan\\\\Desktop\\\\portfolio_repo\\\\arb_airdrop\\\\notebooks\\\\data\\\\processed\\\\transfers_batches\\\\transfers_batch_0.parquet', 'c:\\\\Users\\\\savan\\\\Desktop\\\\portfolio_repo\\\\arb_airdrop\\\\notebooks\\\\data\\\\processed\\\\transfers_batches\\\\transfers_batch_1000.parquet', 'c:\\\\Users\\\\savan\\\\Desktop\\\\portfolio_repo\\\\arb_airdrop\\\\notebooks\\\\data\\\\processed\\\\transfers_batches\\\\transfers_batch_10000.parquet', 'c:\\\\Users\\\\savan\\\\Desktop\\\\portfolio_repo\\\\arb_airdrop\\\\notebooks\\\\data\\\\processed\\\\transfers_batches\\\\transfers_batch_11000.parquet', 'c:\\\\Users\\\\savan\\\\Desktop\\\\portfolio_repo\\\\arb_airdrop\\\\notebooks\\\\data\\\\processed\\\\transfers_batches\\\\transfers_batch_12000.parquet', 'c:\\\\Users\\\\savan\\\\Desktop\\\\portfolio_repo\\\\arb_airdrop\\\\notebooks\\\\data\\\\processed\\\\transfers_batches\\\\transfers_batch_13000.parquet', 'c:\\\\Users\\\\savan\\\\Desktop\\\\portfolio_repo\\\\arb_airdrop\\\\notebooks\\\\data\\\\processed\\\\transfers_batches\\\\transfers_batch_14000.parquet', 'c:\\\\Users\\\\savan\\\\Desktop\\\\portfolio_repo\\\\arb_airdrop\\\\notebooks\\\\data\\\\processed\\\\transfers_batches\\\\transfers_batch_15000.parquet', 'c:\\\\Users\\\\savan\\\\Desktop\\\\portfolio_repo\\\\arb_airdrop\\\\notebooks\\\\data\\\\processed\\\\transfers_batches\\\\transfers_batch_16000.parquet', 'c:\\\\Users\\\\savan\\\\Desktop\\\\portfolio_repo\\\\arb_airdrop\\\\notebooks\\\\data\\\\processed\\\\transfers_batches\\\\transfers_batch_17000.parquet', 'c:\\\\Users\\\\savan\\\\Desktop\\\\portfolio_repo\\\\arb_airdrop\\\\notebooks\\\\data\\\\processed\\\\transfers_batches\\\\transfers_batch_18000.parquet', 'c:\\\\Users\\\\savan\\\\Desktop\\\\portfolio_repo\\\\arb_airdrop\\\\notebooks\\\\data\\\\processed\\\\transfers_batches\\\\transfers_batch_19000.parquet', 'c:\\\\Users\\\\savan\\\\Desktop\\\\portfolio_repo\\\\arb_airdrop\\\\notebooks\\\\data\\\\processed\\\\transfers_batches\\\\transfers_batch_2000.parquet', 'c:\\\\Users\\\\savan\\\\Desktop\\\\portfolio_repo\\\\arb_airdrop\\\\notebooks\\\\data\\\\processed\\\\transfers_batches\\\\transfers_batch_20000.parquet', 'c:\\\\Users\\\\savan\\\\Desktop\\\\portfolio_repo\\\\arb_airdrop\\\\notebooks\\\\data\\\\processed\\\\transfers_batches\\\\transfers_batch_21000.parquet', 'c:\\\\Users\\\\savan\\\\Desktop\\\\portfolio_repo\\\\arb_airdrop\\\\notebooks\\\\data\\\\processed\\\\transfers_batches\\\\transfers_batch_22000.parquet', 'c:\\\\Users\\\\savan\\\\Desktop\\\\portfolio_repo\\\\arb_airdrop\\\\notebooks\\\\data\\\\processed\\\\transfers_batches\\\\transfers_batch_23000.parquet', 'c:\\\\Users\\\\savan\\\\Desktop\\\\portfolio_repo\\\\arb_airdrop\\\\notebooks\\\\data\\\\processed\\\\transfers_batches\\\\transfers_batch_24000.parquet', 'c:\\\\Users\\\\savan\\\\Desktop\\\\portfolio_repo\\\\arb_airdrop\\\\notebooks\\\\data\\\\processed\\\\transfers_batches\\\\transfers_batch_25000.parquet', 'c:\\\\Users\\\\savan\\\\Desktop\\\\portfolio_repo\\\\arb_airdrop\\\\notebooks\\\\data\\\\processed\\\\transfers_batches\\\\transfers_batch_26000.parquet', 'c:\\\\Users\\\\savan\\\\Desktop\\\\portfolio_repo\\\\arb_airdrop\\\\notebooks\\\\data\\\\processed\\\\transfers_batches\\\\transfers_batch_27000.parquet', 'c:\\\\Users\\\\savan\\\\Desktop\\\\portfolio_repo\\\\arb_airdrop\\\\notebooks\\\\data\\\\processed\\\\transfers_batches\\\\transfers_batch_28000.parquet', 'c:\\\\Users\\\\savan\\\\Desktop\\\\portfolio_repo\\\\arb_airdrop\\\\notebooks\\\\data\\\\processed\\\\transfers_batches\\\\transfers_batch_29000.parquet', 'c:\\\\Users\\\\savan\\\\Desktop\\\\portfolio_repo\\\\arb_airdrop\\\\notebooks\\\\data\\\\processed\\\\transfers_batches\\\\transfers_batch_3000.parquet', 'c:\\\\Users\\\\savan\\\\Desktop\\\\portfolio_repo\\\\arb_airdrop\\\\notebooks\\\\data\\\\processed\\\\transfers_batches\\\\transfers_batch_30000.parquet', 'c:\\\\Users\\\\savan\\\\Desktop\\\\portfolio_repo\\\\arb_airdrop\\\\notebooks\\\\data\\\\processed\\\\transfers_batches\\\\transfers_batch_31000.parquet', 'c:\\\\Users\\\\savan\\\\Desktop\\\\portfolio_repo\\\\arb_airdrop\\\\notebooks\\\\data\\\\processed\\\\transfers_batches\\\\transfers_batch_32000.parquet', 'c:\\\\Users\\\\savan\\\\Desktop\\\\portfolio_repo\\\\arb_airdrop\\\\notebooks\\\\data\\\\processed\\\\transfers_batches\\\\transfers_batch_33000.parquet', 'c:\\\\Users\\\\savan\\\\Desktop\\\\portfolio_repo\\\\arb_airdrop\\\\notebooks\\\\data\\\\processed\\\\transfers_batches\\\\transfers_batch_34000.parquet', 'c:\\\\Users\\\\savan\\\\Desktop\\\\portfolio_repo\\\\arb_airdrop\\\\notebooks\\\\data\\\\processed\\\\transfers_batches\\\\transfers_batch_35000.parquet', 'c:\\\\Users\\\\savan\\\\Desktop\\\\portfolio_repo\\\\arb_airdrop\\\\notebooks\\\\data\\\\processed\\\\transfers_batches\\\\transfers_batch_36000.parquet', 'c:\\\\Users\\\\savan\\\\Desktop\\\\portfolio_repo\\\\arb_airdrop\\\\notebooks\\\\data\\\\processed\\\\transfers_batches\\\\transfers_batch_37000.parquet', 'c:\\\\Users\\\\savan\\\\Desktop\\\\portfolio_repo\\\\arb_airdrop\\\\notebooks\\\\data\\\\processed\\\\transfers_batches\\\\transfers_batch_38000.parquet', 'c:\\\\Users\\\\savan\\\\Desktop\\\\portfolio_repo\\\\arb_airdrop\\\\notebooks\\\\data\\\\processed\\\\transfers_batches\\\\transfers_batch_39000.parquet', 'c:\\\\Users\\\\savan\\\\Desktop\\\\portfolio_repo\\\\arb_airdrop\\\\notebooks\\\\data\\\\processed\\\\transfers_batches\\\\transfers_batch_4000.parquet', 'c:\\\\Users\\\\savan\\\\Desktop\\\\portfolio_repo\\\\arb_airdrop\\\\notebooks\\\\data\\\\processed\\\\transfers_batches\\\\transfers_batch_40000.parquet', 'c:\\\\Users\\\\savan\\\\Desktop\\\\portfolio_repo\\\\arb_airdrop\\\\notebooks\\\\data\\\\processed\\\\transfers_batches\\\\transfers_batch_41000.parquet', 'c:\\\\Users\\\\savan\\\\Desktop\\\\portfolio_repo\\\\arb_airdrop\\\\notebooks\\\\data\\\\processed\\\\transfers_batches\\\\transfers_batch_42000.parquet', 'c:\\\\Users\\\\savan\\\\Desktop\\\\portfolio_repo\\\\arb_airdrop\\\\notebooks\\\\data\\\\processed\\\\transfers_batches\\\\transfers_batch_43000.parquet', 'c:\\\\Users\\\\savan\\\\Desktop\\\\portfolio_repo\\\\arb_airdrop\\\\notebooks\\\\data\\\\processed\\\\transfers_batches\\\\transfers_batch_44000.parquet', 'c:\\\\Users\\\\savan\\\\Desktop\\\\portfolio_repo\\\\arb_airdrop\\\\notebooks\\\\data\\\\processed\\\\transfers_batches\\\\transfers_batch_45000.parquet', 'c:\\\\Users\\\\savan\\\\Desktop\\\\portfolio_repo\\\\arb_airdrop\\\\notebooks\\\\data\\\\processed\\\\transfers_batches\\\\transfers_batch_46000.parquet', 'c:\\\\Users\\\\savan\\\\Desktop\\\\portfolio_repo\\\\arb_airdrop\\\\notebooks\\\\data\\\\processed\\\\transfers_batches\\\\transfers_batch_47000.parquet', 'c:\\\\Users\\\\savan\\\\Desktop\\\\portfolio_repo\\\\arb_airdrop\\\\notebooks\\\\data\\\\processed\\\\transfers_batches\\\\transfers_batch_48000.parquet', 'c:\\\\Users\\\\savan\\\\Desktop\\\\portfolio_repo\\\\arb_airdrop\\\\notebooks\\\\data\\\\processed\\\\transfers_batches\\\\transfers_batch_49000.parquet', 'c:\\\\Users\\\\savan\\\\Desktop\\\\portfolio_repo\\\\arb_airdrop\\\\notebooks\\\\data\\\\processed\\\\transfers_batches\\\\transfers_batch_5000.parquet', 'c:\\\\Users\\\\savan\\\\Desktop\\\\portfolio_repo\\\\arb_airdrop\\\\notebooks\\\\data\\\\processed\\\\transfers_batches\\\\transfers_batch_50000.parquet', 'c:\\\\Users\\\\savan\\\\Desktop\\\\portfolio_repo\\\\arb_airdrop\\\\notebooks\\\\data\\\\processed\\\\transfers_batches\\\\transfers_batch_51000.parquet', 'c:\\\\Users\\\\savan\\\\Desktop\\\\portfolio_repo\\\\arb_airdrop\\\\notebooks\\\\data\\\\processed\\\\transfers_batches\\\\transfers_batch_52000.parquet', 'c:\\\\Users\\\\savan\\\\Desktop\\\\portfolio_repo\\\\arb_airdrop\\\\notebooks\\\\data\\\\processed\\\\transfers_batches\\\\transfers_batch_53000.parquet', 'c:\\\\Users\\\\savan\\\\Desktop\\\\portfolio_repo\\\\arb_airdrop\\\\notebooks\\\\data\\\\processed\\\\transfers_batches\\\\transfers_batch_54000.parquet', 'c:\\\\Users\\\\savan\\\\Desktop\\\\portfolio_repo\\\\arb_airdrop\\\\notebooks\\\\data\\\\processed\\\\transfers_batches\\\\transfers_batch_55000.parquet', 'c:\\\\Users\\\\savan\\\\Desktop\\\\portfolio_repo\\\\arb_airdrop\\\\notebooks\\\\data\\\\processed\\\\transfers_batches\\\\transfers_batch_56000.parquet', 'c:\\\\Users\\\\savan\\\\Desktop\\\\portfolio_repo\\\\arb_airdrop\\\\notebooks\\\\data\\\\processed\\\\transfers_batches\\\\transfers_batch_57000.parquet', 'c:\\\\Users\\\\savan\\\\Desktop\\\\portfolio_repo\\\\arb_airdrop\\\\notebooks\\\\data\\\\processed\\\\transfers_batches\\\\transfers_batch_58000.parquet', 'c:\\\\Users\\\\savan\\\\Desktop\\\\portfolio_repo\\\\arb_airdrop\\\\notebooks\\\\data\\\\processed\\\\transfers_batches\\\\transfers_batch_59000.parquet', 'c:\\\\Users\\\\savan\\\\Desktop\\\\portfolio_repo\\\\arb_airdrop\\\\notebooks\\\\data\\\\processed\\\\transfers_batches\\\\transfers_batch_6000.parquet', 'c:\\\\Users\\\\savan\\\\Desktop\\\\portfolio_repo\\\\arb_airdrop\\\\notebooks\\\\data\\\\processed\\\\transfers_batches\\\\transfers_batch_60000.parquet', 'c:\\\\Users\\\\savan\\\\Desktop\\\\portfolio_repo\\\\arb_airdrop\\\\notebooks\\\\data\\\\processed\\\\transfers_batches\\\\transfers_batch_61000.parquet', 'c:\\\\Users\\\\savan\\\\Desktop\\\\portfolio_repo\\\\arb_airdrop\\\\notebooks\\\\data\\\\processed\\\\transfers_batches\\\\transfers_batch_62000.parquet', 'c:\\\\Users\\\\savan\\\\Desktop\\\\portfolio_repo\\\\arb_airdrop\\\\notebooks\\\\data\\\\processed\\\\transfers_batches\\\\transfers_batch_63000.parquet', 'c:\\\\Users\\\\savan\\\\Desktop\\\\portfolio_repo\\\\arb_airdrop\\\\notebooks\\\\data\\\\processed\\\\transfers_batches\\\\transfers_batch_64000.parquet', 'c:\\\\Users\\\\savan\\\\Desktop\\\\portfolio_repo\\\\arb_airdrop\\\\notebooks\\\\data\\\\processed\\\\transfers_batches\\\\transfers_batch_65000.parquet', 'c:\\\\Users\\\\savan\\\\Desktop\\\\portfolio_repo\\\\arb_airdrop\\\\notebooks\\\\data\\\\processed\\\\transfers_batches\\\\transfers_batch_66000.parquet', 'c:\\\\Users\\\\savan\\\\Desktop\\\\portfolio_repo\\\\arb_airdrop\\\\notebooks\\\\data\\\\processed\\\\transfers_batches\\\\transfers_batch_67000.parquet', 'c:\\\\Users\\\\savan\\\\Desktop\\\\portfolio_repo\\\\arb_airdrop\\\\notebooks\\\\data\\\\processed\\\\transfers_batches\\\\transfers_batch_68000.parquet', 'c:\\\\Users\\\\savan\\\\Desktop\\\\portfolio_repo\\\\arb_airdrop\\\\notebooks\\\\data\\\\processed\\\\transfers_batches\\\\transfers_batch_69000.parquet', 'c:\\\\Users\\\\savan\\\\Desktop\\\\portfolio_repo\\\\arb_airdrop\\\\notebooks\\\\data\\\\processed\\\\transfers_batches\\\\transfers_batch_7000.parquet', 'c:\\\\Users\\\\savan\\\\Desktop\\\\portfolio_repo\\\\arb_airdrop\\\\notebooks\\\\data\\\\processed\\\\transfers_batches\\\\transfers_batch_70000.parquet', 'c:\\\\Users\\\\savan\\\\Desktop\\\\portfolio_repo\\\\arb_airdrop\\\\notebooks\\\\data\\\\processed\\\\transfers_batches\\\\transfers_batch_71000.parquet', 'c:\\\\Users\\\\savan\\\\Desktop\\\\portfolio_repo\\\\arb_airdrop\\\\notebooks\\\\data\\\\processed\\\\transfers_batches\\\\transfers_batch_72000.parquet', 'c:\\\\Users\\\\savan\\\\Desktop\\\\portfolio_repo\\\\arb_airdrop\\\\notebooks\\\\data\\\\processed\\\\transfers_batches\\\\transfers_batch_73000.parquet', 'c:\\\\Users\\\\savan\\\\Desktop\\\\portfolio_repo\\\\arb_airdrop\\\\notebooks\\\\data\\\\processed\\\\transfers_batches\\\\transfers_batch_74000.parquet', 'c:\\\\Users\\\\savan\\\\Desktop\\\\portfolio_repo\\\\arb_airdrop\\\\notebooks\\\\data\\\\processed\\\\transfers_batches\\\\transfers_batch_75000.parquet', 'c:\\\\Users\\\\savan\\\\Desktop\\\\portfolio_repo\\\\arb_airdrop\\\\notebooks\\\\data\\\\processed\\\\transfers_batches\\\\transfers_batch_76000.parquet', 'c:\\\\Users\\\\savan\\\\Desktop\\\\portfolio_repo\\\\arb_airdrop\\\\notebooks\\\\data\\\\processed\\\\transfers_batches\\\\transfers_batch_77000.parquet', 'c:\\\\Users\\\\savan\\\\Desktop\\\\portfolio_repo\\\\arb_airdrop\\\\notebooks\\\\data\\\\processed\\\\transfers_batches\\\\transfers_batch_78000.parquet', 'c:\\\\Users\\\\savan\\\\Desktop\\\\portfolio_repo\\\\arb_airdrop\\\\notebooks\\\\data\\\\processed\\\\transfers_batches\\\\transfers_batch_79000.parquet', 'c:\\\\Users\\\\savan\\\\Desktop\\\\portfolio_repo\\\\arb_airdrop\\\\notebooks\\\\data\\\\processed\\\\transfers_batches\\\\transfers_batch_8000.parquet', 'c:\\\\Users\\\\savan\\\\Desktop\\\\portfolio_repo\\\\arb_airdrop\\\\notebooks\\\\data\\\\processed\\\\transfers_batches\\\\transfers_batch_80000.parquet', 'c:\\\\Users\\\\savan\\\\Desktop\\\\portfolio_repo\\\\arb_airdrop\\\\notebooks\\\\data\\\\processed\\\\transfers_batches\\\\transfers_batch_81000.parquet', 'c:\\\\Users\\\\savan\\\\Desktop\\\\portfolio_repo\\\\arb_airdrop\\\\notebooks\\\\data\\\\processed\\\\transfers_batches\\\\transfers_batch_82000.parquet', 'c:\\\\Users\\\\savan\\\\Desktop\\\\portfolio_repo\\\\arb_airdrop\\\\notebooks\\\\data\\\\processed\\\\transfers_batches\\\\transfers_batch_83000.parquet', 'c:\\\\Users\\\\savan\\\\Desktop\\\\portfolio_repo\\\\arb_airdrop\\\\notebooks\\\\data\\\\processed\\\\transfers_batches\\\\transfers_batch_84000.parquet', 'c:\\\\Users\\\\savan\\\\Desktop\\\\portfolio_repo\\\\arb_airdrop\\\\notebooks\\\\data\\\\processed\\\\transfers_batches\\\\transfers_batch_85000.parquet', 'c:\\\\Users\\\\savan\\\\Desktop\\\\portfolio_repo\\\\arb_airdrop\\\\notebooks\\\\data\\\\processed\\\\transfers_batches\\\\transfers_batch_86000.parquet', 'c:\\\\Users\\\\savan\\\\Desktop\\\\portfolio_repo\\\\arb_airdrop\\\\notebooks\\\\data\\\\processed\\\\transfers_batches\\\\transfers_batch_87000.parquet', 'c:\\\\Users\\\\savan\\\\Desktop\\\\portfolio_repo\\\\arb_airdrop\\\\notebooks\\\\data\\\\processed\\\\transfers_batches\\\\transfers_batch_88000.parquet', 'c:\\\\Users\\\\savan\\\\Desktop\\\\portfolio_repo\\\\arb_airdrop\\\\notebooks\\\\data\\\\processed\\\\transfers_batches\\\\transfers_batch_89000.parquet', 'c:\\\\Users\\\\savan\\\\Desktop\\\\portfolio_repo\\\\arb_airdrop\\\\notebooks\\\\data\\\\processed\\\\transfers_batches\\\\transfers_batch_9000.parquet', 'c:\\\\Users\\\\savan\\\\Desktop\\\\portfolio_repo\\\\arb_airdrop\\\\notebooks\\\\data\\\\processed\\\\transfers_batches\\\\transfers_batch_90000.parquet', 'c:\\\\Users\\\\savan\\\\Desktop\\\\portfolio_repo\\\\arb_airdrop\\\\notebooks\\\\data\\\\processed\\\\transfers_batches\\\\transfers_batch_91000.parquet', 'c:\\\\Users\\\\savan\\\\Desktop\\\\portfolio_repo\\\\arb_airdrop\\\\notebooks\\\\data\\\\processed\\\\transfers_batches\\\\transfers_batch_92000.parquet', 'c:\\\\Users\\\\savan\\\\Desktop\\\\portfolio_repo\\\\arb_airdrop\\\\notebooks\\\\data\\\\processed\\\\transfers_batches\\\\transfers_batch_93000.parquet', 'c:\\\\Users\\\\savan\\\\Desktop\\\\portfolio_repo\\\\arb_airdrop\\\\notebooks\\\\data\\\\processed\\\\transfers_batches\\\\transfers_batch_94000.parquet', 'c:\\\\Users\\\\savan\\\\Desktop\\\\portfolio_repo\\\\arb_airdrop\\\\notebooks\\\\data\\\\processed\\\\transfers_batches\\\\transfers_batch_95000.parquet', 'c:\\\\Users\\\\savan\\\\Desktop\\\\portfolio_repo\\\\arb_airdrop\\\\notebooks\\\\data\\\\processed\\\\transfers_batches\\\\transfers_batch_96000.parquet', 'c:\\\\Users\\\\savan\\\\Desktop\\\\portfolio_repo\\\\arb_airdrop\\\\notebooks\\\\data\\\\processed\\\\transfers_batches\\\\transfers_batch_97000.parquet', 'c:\\\\Users\\\\savan\\\\Desktop\\\\portfolio_repo\\\\arb_airdrop\\\\notebooks\\\\data\\\\processed\\\\transfers_batches\\\\transfers_batch_98000.parquet', 'c:\\\\Users\\\\savan\\\\Desktop\\\\portfolio_repo\\\\arb_airdrop\\\\notebooks\\\\data\\\\processed\\\\transfers_batches\\\\transfers_batch_99000.parquet']\n"
     ]
    }
   ],
   "source": [
    "import os\n",
    "import glob\n",
    "\n",
    "base_dir = os.path.join(os.getcwd(), 'data', 'processed', 'transfers_batches')\n",
    "pattern = os.path.join(base_dir, 'transfers_batch_*.parquet')\n",
    "\n",
    "batch_files = glob.glob(pattern)\n",
    "# print(f\"Found files: {batch_files}\")\n"
   ]
  },
  {
   "cell_type": "code",
   "execution_count": 21,
   "metadata": {},
   "outputs": [
    {
     "name": "stdout",
     "output_type": "stream",
     "text": [
      "Combined all transfer batches: 1213667 rows\n"
     ]
    }
   ],
   "source": [
    "# batch_files = glob.glob(\"data/processed/transfers_batches/transfers_batch_*.parquet\")\n",
    "transfers_dfs = [pd.read_parquet(f) for f in batch_files]\n",
    "transfers_df = pd.concat(transfers_dfs, ignore_index=True)\n",
    "print(f\"Combined all transfer batches: {len(transfers_df)} rows\")"
   ]
  },
  {
   "cell_type": "code",
   "execution_count": null,
   "metadata": {},
   "outputs": [
    {
     "name": "stdout",
     "output_type": "stream",
     "text": [
      "Index(['blockchain', 'airdrop', 'action_type', 'tx_hash', 'claim_time',\n",
      "       'contract_address', 'wallet_address', 'claimed_amount', 'amount_usd',\n",
      "       '__row_index', 'block_date'],\n",
      "      dtype='object')\n"
     ]
    }
   ],
   "source": [
    "#clean up needed col headers for merge\n",
    "recipients_df = recipients_df.rename(columns={\n",
    "    'user_address': 'wallet_address',\n",
    "    'block_timestamp': 'claim_time',\n",
    "    'amount': 'claimed_amount'\n",
    "})\n",
    "print(recipients_df.columns)"
   ]
  },
  {
   "cell_type": "markdown",
   "metadata": {},
   "source": [
    "Merge and Filter to 30 Days Post Claim"
   ]
  },
  {
   "cell_type": "code",
   "execution_count": null,
   "metadata": {},
   "outputs": [],
   "source": [
    "# merged_df = transfers_df.merge(recipients_df[['wallet_address', 'claim_time']], \n",
    "#                                left_on='from_address', right_on='wallet_address', how='inner')\n",
    "\n",
    "# # Filter within 30 days of claim\n",
    "# merged_df = merged_df[\n",
    "#     (merged_df['block_timestamp'] >= merged_df['claim_time']) &\n",
    "#     (merged_df['block_timestamp'] < merged_df['claim_time'] + pd.Timedelta(days=30))\n",
    "# ]\n",
    "\n",
    "# # Calculate balance delta\n",
    "# merged_df['delta'] = merged_df.apply(\n",
    "#     lambda row: -row['amount'] if row['from_address'] == row['wallet_address'] else row['amount'], axis=1\n",
    "# )\n",
    "\n",
    "# print(f\"✅ Filtered to {len(merged_df)} transfers within 30-day windows\")"
   ]
  },
  {
   "cell_type": "code",
   "execution_count": 29,
   "metadata": {},
   "outputs": [],
   "source": [
    "# Merge on from_address → capturing send events\n",
    "from_merge = transfers_df.merge(\n",
    "    recipients_df[['wallet_address', 'claim_time']],\n",
    "    left_on='from_address',\n",
    "    right_on='wallet_address',\n",
    "    how='inner'\n",
    ")\n",
    "from_merge['direction'] = 'sent'  # Mark direction\n",
    "\n",
    "# Merge on to_address → capturing receive events\n",
    "to_merge = transfers_df.merge(\n",
    "    recipients_df[['wallet_address', 'claim_time']],\n",
    "    left_on='to_address',\n",
    "    right_on='wallet_address',\n",
    "    how='inner'\n",
    ")\n",
    "to_merge['direction'] = 'received'  # Mark direction\n",
    "\n",
    "merged_df = pd.concat([from_merge, to_merge], ignore_index=True)\n"
   ]
  },
  {
   "cell_type": "markdown",
   "metadata": {},
   "source": [
    "Delta Calculation"
   ]
  },
  {
   "cell_type": "code",
   "execution_count": 30,
   "metadata": {},
   "outputs": [],
   "source": [
    "merged_df['delta'] = merged_df.apply(\n",
    "    lambda row: -row['amount'] if row['direction'] == 'sent' else row['amount'], axis=1\n",
    ")"
   ]
  },
  {
   "cell_type": "markdown",
   "metadata": {},
   "source": [
    "Daily Balances"
   ]
  },
  {
   "cell_type": "code",
   "execution_count": 32,
   "metadata": {},
   "outputs": [],
   "source": [
    "daily_balances = merged_df.groupby(['wallet_address', 'block_timestamp']).agg({'delta': 'sum'}).reset_index()\n",
    "daily_balances['cumulative_balance'] = daily_balances.groupby('wallet_address')['delta'].cumsum()"
   ]
  },
  {
   "cell_type": "code",
   "execution_count": 55,
   "metadata": {},
   "outputs": [],
   "source": [
    "# daily_balances.head(200)\n",
    "\n",
    "daily_balances.to_csv(r\"C:\\Users\\savan\\Desktop\\portfolio_repo\\arb_airdrop\\data\\processed\\daily_balances.csv\")"
   ]
  },
  {
   "cell_type": "markdown",
   "metadata": {},
   "source": [
    "Balances after 30 days"
   ]
  },
  {
   "cell_type": "code",
   "execution_count": 34,
   "metadata": {},
   "outputs": [],
   "source": [
    "recipients_df['claim_time'] = pd.to_datetime(recipients_df['claim_time'])\n",
    "daily_balances['block_timestamp'] = pd.to_datetime(daily_balances['block_timestamp'])"
   ]
  },
  {
   "cell_type": "code",
   "execution_count": 35,
   "metadata": {},
   "outputs": [],
   "source": [
    "# Merge to get claim_time and claimed_amount in daily_balances\n",
    "merged_df = daily_balances.merge(\n",
    "    recipients_df[['wallet_address', 'claim_time', 'claimed_amount']],\n",
    "    on='wallet_address',\n",
    "    how='left'\n",
    ")"
   ]
  },
  {
   "cell_type": "code",
   "execution_count": 38,
   "metadata": {},
   "outputs": [],
   "source": [
    "# Ensure all timestamps are UTC-aware and comparable\n",
    "merged_df['block_timestamp'] = pd.to_datetime(merged_df['block_timestamp'], utc=True)\n",
    "merged_df['claim_time'] = pd.to_datetime(merged_df['claim_time'], utc=True)\n",
    "merged_df['day_30'] = merged_df['claim_time'] + pd.Timedelta(days=30)"
   ]
  },
  {
   "cell_type": "code",
   "execution_count": 50,
   "metadata": {},
   "outputs": [
    {
     "name": "stdout",
     "output_type": "stream",
     "text": [
      "<class 'pandas.core.frame.DataFrame'>\n",
      "Index: 100000 entries, 37 to 1154241\n",
      "Data columns (total 4 columns):\n",
      " #   Column              Non-Null Count   Dtype              \n",
      "---  ------              --------------   -----              \n",
      " 0   wallet_address      100000 non-null  object             \n",
      " 1   claimed_amount      100000 non-null  int64              \n",
      " 2   cumulative_balance  100000 non-null  float64            \n",
      " 3   block_timestamp     100000 non-null  datetime64[ns, UTC]\n",
      "dtypes: datetime64[ns, UTC](1), float64(1), int64(1), object(1)\n",
      "memory usage: 3.8+ MB\n",
      "None\n"
     ]
    }
   ],
   "source": [
    "# Filter rows within the 30-day window\n",
    "filtered_df = merged_df[merged_df['block_timestamp'] <= merged_df['day_30']]\n",
    "\n",
    "# Keep the latest record per wallet before day 30\n",
    "latest_balance = filtered_df.sort_values(['wallet_address', 'block_timestamp']) \\\n",
    "    .groupby('wallet_address').tail(1)\n",
    "\n",
    "# Select relevant columns\n",
    "final_df = latest_balance[['wallet_address', 'claimed_amount', 'cumulative_balance', 'block_timestamp']]\n",
    "\n",
    "print(final_df.info())\n"
   ]
  },
  {
   "cell_type": "code",
   "execution_count": 51,
   "metadata": {},
   "outputs": [
    {
     "data": {
      "text/html": [
       "<div>\n",
       "<style scoped>\n",
       "    .dataframe tbody tr th:only-of-type {\n",
       "        vertical-align: middle;\n",
       "    }\n",
       "\n",
       "    .dataframe tbody tr th {\n",
       "        vertical-align: top;\n",
       "    }\n",
       "\n",
       "    .dataframe thead th {\n",
       "        text-align: right;\n",
       "    }\n",
       "</style>\n",
       "<table border=\"1\" class=\"dataframe\">\n",
       "  <thead>\n",
       "    <tr style=\"text-align: right;\">\n",
       "      <th></th>\n",
       "      <th>wallet_address</th>\n",
       "      <th>block_timestamp</th>\n",
       "      <th>delta</th>\n",
       "      <th>cumulative_balance</th>\n",
       "      <th>claim_time</th>\n",
       "      <th>claimed_amount</th>\n",
       "      <th>day_30</th>\n",
       "    </tr>\n",
       "  </thead>\n",
       "  <tbody>\n",
       "    <tr>\n",
       "      <th>37</th>\n",
       "      <td>0x00000000009a41862f3b2b0c688b7c0d1940511e</td>\n",
       "      <td>2023-03-23 14:51:03+00:00</td>\n",
       "      <td>0.0</td>\n",
       "      <td>0.0</td>\n",
       "      <td>2023-03-23 13:38:43+00:00</td>\n",
       "      <td>4250</td>\n",
       "      <td>2023-04-22 13:38:43+00:00</td>\n",
       "    </tr>\n",
       "    <tr>\n",
       "      <th>41</th>\n",
       "      <td>0x0000000000dfd67ffd6c24251348f7c4f933cab4</td>\n",
       "      <td>2023-03-23 13:28:56+00:00</td>\n",
       "      <td>-1750.0</td>\n",
       "      <td>0.0</td>\n",
       "      <td>2023-03-23 13:28:55+00:00</td>\n",
       "      <td>1750</td>\n",
       "      <td>2023-04-22 13:28:55+00:00</td>\n",
       "    </tr>\n",
       "    <tr>\n",
       "      <th>43</th>\n",
       "      <td>0x0000000000e189dd664b9ab08a33c4839953852c</td>\n",
       "      <td>2023-03-23 13:26:55+00:00</td>\n",
       "      <td>-2250.0</td>\n",
       "      <td>0.0</td>\n",
       "      <td>2023-03-23 13:26:41+00:00</td>\n",
       "      <td>2250</td>\n",
       "      <td>2023-04-22 13:26:41+00:00</td>\n",
       "    </tr>\n",
       "    <tr>\n",
       "      <th>45</th>\n",
       "      <td>0x000000000279ef217428b1c3906ec8124784b70f</td>\n",
       "      <td>2023-03-23 13:28:01+00:00</td>\n",
       "      <td>-3250.0</td>\n",
       "      <td>0.0</td>\n",
       "      <td>2023-03-23 13:27:58+00:00</td>\n",
       "      <td>3250</td>\n",
       "      <td>2023-04-22 13:27:58+00:00</td>\n",
       "    </tr>\n",
       "    <tr>\n",
       "      <th>48</th>\n",
       "      <td>0x0000000009572a244a6c2d06ffe7be30e3bd2aec</td>\n",
       "      <td>2023-04-05 07:13:32+00:00</td>\n",
       "      <td>10.0</td>\n",
       "      <td>10.0</td>\n",
       "      <td>2023-03-23 18:41:59+00:00</td>\n",
       "      <td>625</td>\n",
       "      <td>2023-04-22 18:41:59+00:00</td>\n",
       "    </tr>\n",
       "  </tbody>\n",
       "</table>\n",
       "</div>"
      ],
      "text/plain": [
       "                                wallet_address           block_timestamp  \\\n",
       "37  0x00000000009a41862f3b2b0c688b7c0d1940511e 2023-03-23 14:51:03+00:00   \n",
       "41  0x0000000000dfd67ffd6c24251348f7c4f933cab4 2023-03-23 13:28:56+00:00   \n",
       "43  0x0000000000e189dd664b9ab08a33c4839953852c 2023-03-23 13:26:55+00:00   \n",
       "45  0x000000000279ef217428b1c3906ec8124784b70f 2023-03-23 13:28:01+00:00   \n",
       "48  0x0000000009572a244a6c2d06ffe7be30e3bd2aec 2023-04-05 07:13:32+00:00   \n",
       "\n",
       "     delta  cumulative_balance                claim_time  claimed_amount  \\\n",
       "37     0.0                 0.0 2023-03-23 13:38:43+00:00            4250   \n",
       "41 -1750.0                 0.0 2023-03-23 13:28:55+00:00            1750   \n",
       "43 -2250.0                 0.0 2023-03-23 13:26:41+00:00            2250   \n",
       "45 -3250.0                 0.0 2023-03-23 13:27:58+00:00            3250   \n",
       "48    10.0                10.0 2023-03-23 18:41:59+00:00             625   \n",
       "\n",
       "                      day_30  \n",
       "37 2023-04-22 13:38:43+00:00  \n",
       "41 2023-04-22 13:28:55+00:00  \n",
       "43 2023-04-22 13:26:41+00:00  \n",
       "45 2023-04-22 13:27:58+00:00  \n",
       "48 2023-04-22 18:41:59+00:00  "
      ]
     },
     "metadata": {},
     "output_type": "display_data"
    }
   ],
   "source": [
    "display(latest_balance.head())"
   ]
  },
  {
   "cell_type": "code",
   "execution_count": 43,
   "metadata": {},
   "outputs": [
    {
     "data": {
      "text/html": [
       "<div>\n",
       "<style scoped>\n",
       "    .dataframe tbody tr th:only-of-type {\n",
       "        vertical-align: middle;\n",
       "    }\n",
       "\n",
       "    .dataframe tbody tr th {\n",
       "        vertical-align: top;\n",
       "    }\n",
       "\n",
       "    .dataframe thead th {\n",
       "        text-align: right;\n",
       "    }\n",
       "</style>\n",
       "<table border=\"1\" class=\"dataframe\">\n",
       "  <thead>\n",
       "    <tr style=\"text-align: right;\">\n",
       "      <th></th>\n",
       "      <th>wallet_address</th>\n",
       "      <th>claimed_amount</th>\n",
       "      <th>cumulative_balance</th>\n",
       "      <th>block_timestamp</th>\n",
       "    </tr>\n",
       "  </thead>\n",
       "  <tbody>\n",
       "    <tr>\n",
       "      <th>37</th>\n",
       "      <td>0x00000000009a41862f3b2b0c688b7c0d1940511e</td>\n",
       "      <td>4250</td>\n",
       "      <td>0.0</td>\n",
       "      <td>2023-03-23 14:51:03+00:00</td>\n",
       "    </tr>\n",
       "    <tr>\n",
       "      <th>41</th>\n",
       "      <td>0x0000000000dfd67ffd6c24251348f7c4f933cab4</td>\n",
       "      <td>1750</td>\n",
       "      <td>0.0</td>\n",
       "      <td>2023-03-23 13:28:56+00:00</td>\n",
       "    </tr>\n",
       "    <tr>\n",
       "      <th>43</th>\n",
       "      <td>0x0000000000e189dd664b9ab08a33c4839953852c</td>\n",
       "      <td>2250</td>\n",
       "      <td>0.0</td>\n",
       "      <td>2023-03-23 13:26:55+00:00</td>\n",
       "    </tr>\n",
       "    <tr>\n",
       "      <th>45</th>\n",
       "      <td>0x000000000279ef217428b1c3906ec8124784b70f</td>\n",
       "      <td>3250</td>\n",
       "      <td>0.0</td>\n",
       "      <td>2023-03-23 13:28:01+00:00</td>\n",
       "    </tr>\n",
       "    <tr>\n",
       "      <th>48</th>\n",
       "      <td>0x0000000009572a244a6c2d06ffe7be30e3bd2aec</td>\n",
       "      <td>625</td>\n",
       "      <td>10.0</td>\n",
       "      <td>2023-04-05 07:13:32+00:00</td>\n",
       "    </tr>\n",
       "  </tbody>\n",
       "</table>\n",
       "</div>"
      ],
      "text/plain": [
       "                                wallet_address  claimed_amount  \\\n",
       "37  0x00000000009a41862f3b2b0c688b7c0d1940511e            4250   \n",
       "41  0x0000000000dfd67ffd6c24251348f7c4f933cab4            1750   \n",
       "43  0x0000000000e189dd664b9ab08a33c4839953852c            2250   \n",
       "45  0x000000000279ef217428b1c3906ec8124784b70f            3250   \n",
       "48  0x0000000009572a244a6c2d06ffe7be30e3bd2aec             625   \n",
       "\n",
       "    cumulative_balance           block_timestamp  \n",
       "37                 0.0 2023-03-23 14:51:03+00:00  \n",
       "41                 0.0 2023-03-23 13:28:56+00:00  \n",
       "43                 0.0 2023-03-23 13:26:55+00:00  \n",
       "45                 0.0 2023-03-23 13:28:01+00:00  \n",
       "48                10.0 2023-04-05 07:13:32+00:00  "
      ]
     },
     "metadata": {},
     "output_type": "display_data"
    }
   ],
   "source": [
    "display(final_df.head())"
   ]
  },
  {
   "cell_type": "code",
   "execution_count": 47,
   "metadata": {},
   "outputs": [
    {
     "data": {
      "text/html": [
       "<div>\n",
       "<style scoped>\n",
       "    .dataframe tbody tr th:only-of-type {\n",
       "        vertical-align: middle;\n",
       "    }\n",
       "\n",
       "    .dataframe tbody tr th {\n",
       "        vertical-align: top;\n",
       "    }\n",
       "\n",
       "    .dataframe thead th {\n",
       "        text-align: right;\n",
       "    }\n",
       "</style>\n",
       "<table border=\"1\" class=\"dataframe\">\n",
       "  <thead>\n",
       "    <tr style=\"text-align: right;\">\n",
       "      <th></th>\n",
       "      <th>wallet_address</th>\n",
       "      <th>block_timestamp</th>\n",
       "      <th>delta</th>\n",
       "      <th>cumulative_balance</th>\n",
       "      <th>claim_time</th>\n",
       "      <th>claimed_amount</th>\n",
       "      <th>day_30</th>\n",
       "    </tr>\n",
       "  </thead>\n",
       "  <tbody>\n",
       "    <tr>\n",
       "      <th>0</th>\n",
       "      <td>0x00000000009a41862f3b2b0c688b7c0d1940511e</td>\n",
       "      <td>2023-03-21 23:34:22+00:00</td>\n",
       "      <td>0.0</td>\n",
       "      <td>0.0</td>\n",
       "      <td>2023-03-23 13:38:43+00:00</td>\n",
       "      <td>4250</td>\n",
       "      <td>2023-04-22 13:38:43+00:00</td>\n",
       "    </tr>\n",
       "    <tr>\n",
       "      <th>1</th>\n",
       "      <td>0x00000000009a41862f3b2b0c688b7c0d1940511e</td>\n",
       "      <td>2023-03-21 23:34:23+00:00</td>\n",
       "      <td>0.0</td>\n",
       "      <td>0.0</td>\n",
       "      <td>2023-03-23 13:38:43+00:00</td>\n",
       "      <td>4250</td>\n",
       "      <td>2023-04-22 13:38:43+00:00</td>\n",
       "    </tr>\n",
       "    <tr>\n",
       "      <th>2</th>\n",
       "      <td>0x00000000009a41862f3b2b0c688b7c0d1940511e</td>\n",
       "      <td>2023-03-21 23:34:24+00:00</td>\n",
       "      <td>0.0</td>\n",
       "      <td>0.0</td>\n",
       "      <td>2023-03-23 13:38:43+00:00</td>\n",
       "      <td>4250</td>\n",
       "      <td>2023-04-22 13:38:43+00:00</td>\n",
       "    </tr>\n",
       "    <tr>\n",
       "      <th>3</th>\n",
       "      <td>0x00000000009a41862f3b2b0c688b7c0d1940511e</td>\n",
       "      <td>2023-03-22 21:24:45+00:00</td>\n",
       "      <td>0.0</td>\n",
       "      <td>0.0</td>\n",
       "      <td>2023-03-23 13:38:43+00:00</td>\n",
       "      <td>4250</td>\n",
       "      <td>2023-04-22 13:38:43+00:00</td>\n",
       "    </tr>\n",
       "    <tr>\n",
       "      <th>4</th>\n",
       "      <td>0x00000000009a41862f3b2b0c688b7c0d1940511e</td>\n",
       "      <td>2023-03-22 21:24:46+00:00</td>\n",
       "      <td>0.0</td>\n",
       "      <td>0.0</td>\n",
       "      <td>2023-03-23 13:38:43+00:00</td>\n",
       "      <td>4250</td>\n",
       "      <td>2023-04-22 13:38:43+00:00</td>\n",
       "    </tr>\n",
       "  </tbody>\n",
       "</table>\n",
       "</div>"
      ],
      "text/plain": [
       "                               wallet_address           block_timestamp  \\\n",
       "0  0x00000000009a41862f3b2b0c688b7c0d1940511e 2023-03-21 23:34:22+00:00   \n",
       "1  0x00000000009a41862f3b2b0c688b7c0d1940511e 2023-03-21 23:34:23+00:00   \n",
       "2  0x00000000009a41862f3b2b0c688b7c0d1940511e 2023-03-21 23:34:24+00:00   \n",
       "3  0x00000000009a41862f3b2b0c688b7c0d1940511e 2023-03-22 21:24:45+00:00   \n",
       "4  0x00000000009a41862f3b2b0c688b7c0d1940511e 2023-03-22 21:24:46+00:00   \n",
       "\n",
       "   delta  cumulative_balance                claim_time  claimed_amount  \\\n",
       "0    0.0                 0.0 2023-03-23 13:38:43+00:00            4250   \n",
       "1    0.0                 0.0 2023-03-23 13:38:43+00:00            4250   \n",
       "2    0.0                 0.0 2023-03-23 13:38:43+00:00            4250   \n",
       "3    0.0                 0.0 2023-03-23 13:38:43+00:00            4250   \n",
       "4    0.0                 0.0 2023-03-23 13:38:43+00:00            4250   \n",
       "\n",
       "                     day_30  \n",
       "0 2023-04-22 13:38:43+00:00  \n",
       "1 2023-04-22 13:38:43+00:00  \n",
       "2 2023-04-22 13:38:43+00:00  \n",
       "3 2023-04-22 13:38:43+00:00  \n",
       "4 2023-04-22 13:38:43+00:00  "
      ]
     },
     "metadata": {},
     "output_type": "display_data"
    }
   ],
   "source": [
    "display(merged_df.head())"
   ]
  }
 ],
 "metadata": {
  "kernelspec": {
   "display_name": ".venv",
   "language": "python",
   "name": "python3"
  },
  "language_info": {
   "codemirror_mode": {
    "name": "ipython",
    "version": 3
   },
   "file_extension": ".py",
   "mimetype": "text/x-python",
   "name": "python",
   "nbconvert_exporter": "python",
   "pygments_lexer": "ipython3",
   "version": "3.12.4"
  }
 },
 "nbformat": 4,
 "nbformat_minor": 2
}
