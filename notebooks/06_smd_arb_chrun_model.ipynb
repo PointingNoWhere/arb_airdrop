{
 "cells": [
  {
   "cell_type": "code",
   "execution_count": 1,
   "metadata": {},
   "outputs": [],
   "source": [
    "import pandas as pd"
   ]
  },
  {
   "cell_type": "code",
   "execution_count": 2,
   "metadata": {},
   "outputs": [
    {
     "name": "stdout",
     "output_type": "stream",
     "text": [
      "Shape: (100000, 12)\n",
      "Churn Label Distribution:\n",
      " churn_label\n",
      "1    60737\n",
      "0    39263\n",
      "Name: count, dtype: int64\n"
     ]
    },
    {
     "data": {
      "text/html": [
       "<div>\n",
       "<style scoped>\n",
       "    .dataframe tbody tr th:only-of-type {\n",
       "        vertical-align: middle;\n",
       "    }\n",
       "\n",
       "    .dataframe tbody tr th {\n",
       "        vertical-align: top;\n",
       "    }\n",
       "\n",
       "    .dataframe thead th {\n",
       "        text-align: right;\n",
       "    }\n",
       "</style>\n",
       "<table border=\"1\" class=\"dataframe\">\n",
       "  <thead>\n",
       "    <tr style=\"text-align: right;\">\n",
       "      <th></th>\n",
       "      <th>Unnamed: 0.1</th>\n",
       "      <th>Unnamed: 0</th>\n",
       "      <th>wallet</th>\n",
       "      <th>cumulative_balance_day_30</th>\n",
       "      <th>wallet_address</th>\n",
       "      <th>claimed_amount</th>\n",
       "      <th>balance_retention_ratio</th>\n",
       "      <th>num_transactions_30_days</th>\n",
       "      <th>total_inflow_30_days</th>\n",
       "      <th>total_outflow_30_days</th>\n",
       "      <th>days_active</th>\n",
       "      <th>churn_label</th>\n",
       "    </tr>\n",
       "  </thead>\n",
       "  <tbody>\n",
       "    <tr>\n",
       "      <th>0</th>\n",
       "      <td>0</td>\n",
       "      <td>0</td>\n",
       "      <td>0x00000000009a41862f3b2b0c688b7c0d1940511e</td>\n",
       "      <td>0.0</td>\n",
       "      <td>0x00000000009a41862f3b2b0c688b7c0d1940511e</td>\n",
       "      <td>4250</td>\n",
       "      <td>0.000</td>\n",
       "      <td>40</td>\n",
       "      <td>4250.0</td>\n",
       "      <td>4250.0</td>\n",
       "      <td>1</td>\n",
       "      <td>1</td>\n",
       "    </tr>\n",
       "    <tr>\n",
       "      <th>1</th>\n",
       "      <td>1</td>\n",
       "      <td>1</td>\n",
       "      <td>0x0000000000dfd67ffd6c24251348f7c4f933cab4</td>\n",
       "      <td>0.0</td>\n",
       "      <td>0x0000000000dfd67ffd6c24251348f7c4f933cab4</td>\n",
       "      <td>1750</td>\n",
       "      <td>0.000</td>\n",
       "      <td>2</td>\n",
       "      <td>1750.0</td>\n",
       "      <td>1750.0</td>\n",
       "      <td>1</td>\n",
       "      <td>1</td>\n",
       "    </tr>\n",
       "    <tr>\n",
       "      <th>2</th>\n",
       "      <td>2</td>\n",
       "      <td>2</td>\n",
       "      <td>0x0000000000e189dd664b9ab08a33c4839953852c</td>\n",
       "      <td>0.0</td>\n",
       "      <td>0x0000000000e189dd664b9ab08a33c4839953852c</td>\n",
       "      <td>2250</td>\n",
       "      <td>0.000</td>\n",
       "      <td>2</td>\n",
       "      <td>2250.0</td>\n",
       "      <td>2250.0</td>\n",
       "      <td>1</td>\n",
       "      <td>1</td>\n",
       "    </tr>\n",
       "    <tr>\n",
       "      <th>3</th>\n",
       "      <td>3</td>\n",
       "      <td>3</td>\n",
       "      <td>0x000000000279ef217428b1c3906ec8124784b70f</td>\n",
       "      <td>0.0</td>\n",
       "      <td>0x000000000279ef217428b1c3906ec8124784b70f</td>\n",
       "      <td>3250</td>\n",
       "      <td>0.000</td>\n",
       "      <td>2</td>\n",
       "      <td>3250.0</td>\n",
       "      <td>3250.0</td>\n",
       "      <td>1</td>\n",
       "      <td>1</td>\n",
       "    </tr>\n",
       "    <tr>\n",
       "      <th>4</th>\n",
       "      <td>4</td>\n",
       "      <td>4</td>\n",
       "      <td>0x0000000009572a244a6c2d06ffe7be30e3bd2aec</td>\n",
       "      <td>10.0</td>\n",
       "      <td>0x0000000009572a244a6c2d06ffe7be30e3bd2aec</td>\n",
       "      <td>625</td>\n",
       "      <td>0.016</td>\n",
       "      <td>3</td>\n",
       "      <td>635.0</td>\n",
       "      <td>625.0</td>\n",
       "      <td>2</td>\n",
       "      <td>0</td>\n",
       "    </tr>\n",
       "  </tbody>\n",
       "</table>\n",
       "</div>"
      ],
      "text/plain": [
       "   Unnamed: 0.1  Unnamed: 0                                      wallet  \\\n",
       "0             0           0  0x00000000009a41862f3b2b0c688b7c0d1940511e   \n",
       "1             1           1  0x0000000000dfd67ffd6c24251348f7c4f933cab4   \n",
       "2             2           2  0x0000000000e189dd664b9ab08a33c4839953852c   \n",
       "3             3           3  0x000000000279ef217428b1c3906ec8124784b70f   \n",
       "4             4           4  0x0000000009572a244a6c2d06ffe7be30e3bd2aec   \n",
       "\n",
       "   cumulative_balance_day_30                              wallet_address  \\\n",
       "0                        0.0  0x00000000009a41862f3b2b0c688b7c0d1940511e   \n",
       "1                        0.0  0x0000000000dfd67ffd6c24251348f7c4f933cab4   \n",
       "2                        0.0  0x0000000000e189dd664b9ab08a33c4839953852c   \n",
       "3                        0.0  0x000000000279ef217428b1c3906ec8124784b70f   \n",
       "4                       10.0  0x0000000009572a244a6c2d06ffe7be30e3bd2aec   \n",
       "\n",
       "   claimed_amount  balance_retention_ratio  num_transactions_30_days  \\\n",
       "0            4250                    0.000                        40   \n",
       "1            1750                    0.000                         2   \n",
       "2            2250                    0.000                         2   \n",
       "3            3250                    0.000                         2   \n",
       "4             625                    0.016                         3   \n",
       "\n",
       "   total_inflow_30_days  total_outflow_30_days  days_active  churn_label  \n",
       "0                4250.0                 4250.0            1            1  \n",
       "1                1750.0                 1750.0            1            1  \n",
       "2                2250.0                 2250.0            1            1  \n",
       "3                3250.0                 3250.0            1            1  \n",
       "4                 635.0                  625.0            2            0  "
      ]
     },
     "execution_count": 2,
     "metadata": {},
     "output_type": "execute_result"
    }
   ],
   "source": [
    "df = pd.read_csv(f\"D:/portfolio_repo/arb_airdrop/data/processed/wallet_features.csv\")\n",
    "print(\"Shape:\", df.shape)\n",
    "print(\"Churn Label Distribution:\\n\", df['churn_label'].value_counts())\n",
    "df.head()"
   ]
  },
  {
   "cell_type": "markdown",
   "metadata": {},
   "source": [
    "Build features and target"
   ]
  },
  {
   "cell_type": "code",
   "execution_count": 3,
   "metadata": {},
   "outputs": [],
   "source": [
    "from sklearn.model_selection import train_test_split\n",
    "from sklearn.preprocessing import StandardScaler\n",
    "\n",
    "features = [\n",
    "    'claimed_amount',\n",
    "    'cumulative_balance_day_30',\n",
    "    'num_transactions_30_days',\n",
    "    'total_inflow_30_days',\n",
    "    'total_outflow_30_days',\n",
    "    'days_active',\n",
    "    'balance_retention_ratio'\n",
    "]\n",
    "target = 'churn_label'\n",
    "\n",
    "X = df[features]\n",
    "y = df[target]"
   ]
  },
  {
   "cell_type": "code",
   "execution_count": 4,
   "metadata": {},
   "outputs": [],
   "source": [
    "# Train/Test Split\n",
    "X_train, X_test, y_train, y_test = train_test_split(\n",
    "    X, y, test_size=0.2, random_state=42, stratify=y\n",
    ")\n",
    "\n",
    "# Scale Features - done for linearity between features\n",
    "scaler = StandardScaler()\n",
    "X_train_scaled = scaler.fit_transform(X_train)\n",
    "X_test_scaled = scaler.transform(X_test)\n"
   ]
  },
  {
   "cell_type": "markdown",
   "metadata": {},
   "source": [
    "Logistic Regression"
   ]
  },
  {
   "cell_type": "code",
   "execution_count": 5,
   "metadata": {},
   "outputs": [
    {
     "name": "stdout",
     "output_type": "stream",
     "text": [
      "\n",
      "--- Logistic Regression ---\n",
      "              precision    recall  f1-score   support\n",
      "\n",
      "           0       0.88      0.60      0.71      7853\n",
      "           1       0.78      0.95      0.86     12147\n",
      "\n",
      "    accuracy                           0.81     20000\n",
      "   macro avg       0.83      0.77      0.78     20000\n",
      "weighted avg       0.82      0.81      0.80     20000\n",
      "\n",
      "ROC AUC: 0.8722553983451018\n"
     ]
    }
   ],
   "source": [
    "from sklearn.linear_model import LogisticRegression\n",
    "from sklearn.metrics import classification_report, roc_auc_score\n",
    "\n",
    "lr = LogisticRegression()\n",
    "lr.fit(X_train_scaled, y_train)\n",
    "y_pred_lr = lr.predict(X_test_scaled)\n",
    "\n",
    "print(\"\\n--- Logistic Regression ---\")\n",
    "print(classification_report(y_test, y_pred_lr))\n",
    "print(\"ROC AUC:\", roc_auc_score(y_test, lr.predict_proba(X_test_scaled)[:,1]))"
   ]
  },
  {
   "cell_type": "markdown",
   "metadata": {},
   "source": [
    "XG Boost"
   ]
  },
  {
   "cell_type": "code",
   "execution_count": 6,
   "metadata": {},
   "outputs": [
    {
     "name": "stdout",
     "output_type": "stream",
     "text": [
      "\n",
      "--- XGBoost ---\n",
      "              precision    recall  f1-score   support\n",
      "\n",
      "           0       1.00      1.00      1.00      7853\n",
      "           1       1.00      1.00      1.00     12147\n",
      "\n",
      "    accuracy                           1.00     20000\n",
      "   macro avg       1.00      1.00      1.00     20000\n",
      "weighted avg       1.00      1.00      1.00     20000\n",
      "\n",
      "ROC AUC: 0.9999916238942768\n"
     ]
    },
    {
     "name": "stderr",
     "output_type": "stream",
     "text": [
      "c:\\Users\\savan\\AppData\\Local\\Programs\\Python\\Python312\\Lib\\site-packages\\xgboost\\training.py:183: UserWarning: [13:08:43] WARNING: C:\\actions-runner\\_work\\xgboost\\xgboost\\src\\learner.cc:738: \n",
      "Parameters: { \"use_label_encoder\" } are not used.\n",
      "\n",
      "  bst.update(dtrain, iteration=i, fobj=obj)\n"
     ]
    }
   ],
   "source": [
    "from xgboost import XGBClassifier\n",
    "\n",
    "xgb = XGBClassifier(use_label_encoder=False, eval_metric='logloss')\n",
    "xgb.fit(X_train, y_train)\n",
    "y_pred_xgb = xgb.predict(X_test)\n",
    "\n",
    "print(\"\\n--- XGBoost ---\")\n",
    "print(classification_report(y_test, y_pred_xgb))\n",
    "print(\"ROC AUC:\", roc_auc_score(y_test, xgb.predict_proba(X_test)[:,1]))"
   ]
  }
 ],
 "metadata": {
  "kernelspec": {
   "display_name": "Python 3",
   "language": "python",
   "name": "python3"
  },
  "language_info": {
   "codemirror_mode": {
    "name": "ipython",
    "version": 3
   },
   "file_extension": ".py",
   "mimetype": "text/x-python",
   "name": "python",
   "nbconvert_exporter": "python",
   "pygments_lexer": "ipython3",
   "version": "3.12.4"
  }
 },
 "nbformat": 4,
 "nbformat_minor": 2
}
